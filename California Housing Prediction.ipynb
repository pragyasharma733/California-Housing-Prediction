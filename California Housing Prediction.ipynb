{
 "cells": [
  {
   "cell_type": "markdown",
   "id": "37c3e57e",
   "metadata": {},
   "source": [
    "# California Housing Dataset\n",
    "\n",
    "Preprocessing housing data:"
   ]
  },
  {
   "cell_type": "code",
   "execution_count": 5,
   "id": "3353a86f",
   "metadata": {},
   "outputs": [],
   "source": [
    "import os\n",
    "import tarfile\n",
    "from six.moves import urllib\n",
    "import numpy as np\n",
    "import pandas as pd\n",
    "from sklearn.model_selection import StratifiedShuffleSplit\n",
    "\n",
    "HOUSING_PATH = os.path.join(\"datasets\", \"housing\")\n",
    "\n",
    "def fetch_housing_data(housing_url, housing_path=HOUSING_PATH):\n",
    "    if not os.path.isdir(housing_path):\n",
    "        os.makedirs(housing_path)\n",
    "    tgz_path = os.path.join(housing_path, \"housing.tgz\")\n",
    "    urllib.request.urlretrieve(housing_url, tgz_path)\n",
    "    housing_tgz = tarfile.open(tgz_path)\n",
    "    housing_tgz.extractall(path=housing_path)\n",
    "    housing_tgz.close()\n",
    "\n",
    "def load_housing_data(housing_path=HOUSING_PATH):\n",
    "    csv_path = os.path.join(housing_path, \"housing.csv\")\n",
    "    return pd.read_csv(csv_path)\n",
    "\n",
    "HOUSING_URL = (\"https://raw.githubusercontent.com/ageron/\"+\n",
    "               \"handson-ml2/master/datasets/housing/housing.tgz\")\n",
    "fetch_housing_data(HOUSING_URL)\n",
    "data = load_housing_data()"
   ]
  },
  {
   "cell_type": "code",
   "execution_count": 6,
   "id": "b63e66a1",
   "metadata": {},
   "outputs": [
    {
     "data": {
      "text/html": [
       "<div>\n",
       "<style scoped>\n",
       "    .dataframe tbody tr th:only-of-type {\n",
       "        vertical-align: middle;\n",
       "    }\n",
       "\n",
       "    .dataframe tbody tr th {\n",
       "        vertical-align: top;\n",
       "    }\n",
       "\n",
       "    .dataframe thead th {\n",
       "        text-align: right;\n",
       "    }\n",
       "</style>\n",
       "<table border=\"1\" class=\"dataframe\">\n",
       "  <thead>\n",
       "    <tr style=\"text-align: right;\">\n",
       "      <th></th>\n",
       "      <th>longitude</th>\n",
       "      <th>latitude</th>\n",
       "      <th>housing_median_age</th>\n",
       "      <th>total_rooms</th>\n",
       "      <th>total_bedrooms</th>\n",
       "      <th>population</th>\n",
       "      <th>households</th>\n",
       "      <th>median_income</th>\n",
       "      <th>median_house_value</th>\n",
       "      <th>ocean_proximity</th>\n",
       "    </tr>\n",
       "  </thead>\n",
       "  <tbody>\n",
       "    <tr>\n",
       "      <th>0</th>\n",
       "      <td>-122.23</td>\n",
       "      <td>37.88</td>\n",
       "      <td>41.0</td>\n",
       "      <td>880.0</td>\n",
       "      <td>129.0</td>\n",
       "      <td>322.0</td>\n",
       "      <td>126.0</td>\n",
       "      <td>8.3252</td>\n",
       "      <td>452600.0</td>\n",
       "      <td>NEAR BAY</td>\n",
       "    </tr>\n",
       "    <tr>\n",
       "      <th>1</th>\n",
       "      <td>-122.22</td>\n",
       "      <td>37.86</td>\n",
       "      <td>21.0</td>\n",
       "      <td>7099.0</td>\n",
       "      <td>1106.0</td>\n",
       "      <td>2401.0</td>\n",
       "      <td>1138.0</td>\n",
       "      <td>8.3014</td>\n",
       "      <td>358500.0</td>\n",
       "      <td>NEAR BAY</td>\n",
       "    </tr>\n",
       "    <tr>\n",
       "      <th>2</th>\n",
       "      <td>-122.24</td>\n",
       "      <td>37.85</td>\n",
       "      <td>52.0</td>\n",
       "      <td>1467.0</td>\n",
       "      <td>190.0</td>\n",
       "      <td>496.0</td>\n",
       "      <td>177.0</td>\n",
       "      <td>7.2574</td>\n",
       "      <td>352100.0</td>\n",
       "      <td>NEAR BAY</td>\n",
       "    </tr>\n",
       "    <tr>\n",
       "      <th>3</th>\n",
       "      <td>-122.25</td>\n",
       "      <td>37.85</td>\n",
       "      <td>52.0</td>\n",
       "      <td>1274.0</td>\n",
       "      <td>235.0</td>\n",
       "      <td>558.0</td>\n",
       "      <td>219.0</td>\n",
       "      <td>5.6431</td>\n",
       "      <td>341300.0</td>\n",
       "      <td>NEAR BAY</td>\n",
       "    </tr>\n",
       "    <tr>\n",
       "      <th>4</th>\n",
       "      <td>-122.25</td>\n",
       "      <td>37.85</td>\n",
       "      <td>52.0</td>\n",
       "      <td>1627.0</td>\n",
       "      <td>280.0</td>\n",
       "      <td>565.0</td>\n",
       "      <td>259.0</td>\n",
       "      <td>3.8462</td>\n",
       "      <td>342200.0</td>\n",
       "      <td>NEAR BAY</td>\n",
       "    </tr>\n",
       "  </tbody>\n",
       "</table>\n",
       "</div>"
      ],
      "text/plain": [
       "   longitude  latitude  housing_median_age  total_rooms  total_bedrooms  \\\n",
       "0    -122.23     37.88                41.0        880.0           129.0   \n",
       "1    -122.22     37.86                21.0       7099.0          1106.0   \n",
       "2    -122.24     37.85                52.0       1467.0           190.0   \n",
       "3    -122.25     37.85                52.0       1274.0           235.0   \n",
       "4    -122.25     37.85                52.0       1627.0           280.0   \n",
       "\n",
       "   population  households  median_income  median_house_value ocean_proximity  \n",
       "0       322.0       126.0         8.3252            452600.0        NEAR BAY  \n",
       "1      2401.0      1138.0         8.3014            358500.0        NEAR BAY  \n",
       "2       496.0       177.0         7.2574            352100.0        NEAR BAY  \n",
       "3       558.0       219.0         5.6431            341300.0        NEAR BAY  \n",
       "4       565.0       259.0         3.8462            342200.0        NEAR BAY  "
      ]
     },
     "execution_count": 6,
     "metadata": {},
     "output_type": "execute_result"
    }
   ],
   "source": [
    "data.head()"
   ]
  },
  {
   "cell_type": "markdown",
   "id": "bc98c2f7",
   "metadata": {},
   "source": [
    " Stratified test and training sets based on different income categories:"
   ]
  },
  {
   "cell_type": "code",
   "execution_count": 10,
   "id": "0b1a86f2",
   "metadata": {},
   "outputs": [],
   "source": [
    "data[\"income_cat\"] = np.ceil(data[\"median_income\"] / 1.5)\n",
    "data[\"income_cat\"].where(data[\"income_cat\"] < 5, 5.0, inplace=True)\n",
    "\n",
    "split = StratifiedShuffleSplit(n_splits=1, test_size=0.2, random_state=42)\n",
    "for train_index, test_index in split.split(data, data[\"income_cat\"]):\n",
    "    strat_train_set = data.loc[train_index]\n",
    "    strat_test_set = data.loc[test_index]\n",
    "\n",
    "for set_ in (strat_train_set, strat_test_set):\n",
    "    set_.drop(\"income_cat\", axis=1, inplace=True)"
   ]
  },
  {
   "cell_type": "code",
   "execution_count": 11,
   "id": "f72e1817",
   "metadata": {},
   "outputs": [],
   "source": [
    "X_raw = strat_train_set.drop(\"median_house_value\", axis=1)\n",
    "y = strat_train_set[\"median_house_value\"].copy()"
   ]
  },
  {
   "cell_type": "markdown",
   "id": "9b710f9d",
   "metadata": {},
   "source": [
    "Handling missing values:"
   ]
  },
  {
   "cell_type": "code",
   "execution_count": 12,
   "id": "cd4b3310",
   "metadata": {},
   "outputs": [
    {
     "data": {
      "text/plain": [
       "(16512, 9)"
      ]
     },
     "execution_count": 12,
     "metadata": {},
     "output_type": "execute_result"
    }
   ],
   "source": [
    "X_raw.shape"
   ]
  },
  {
   "cell_type": "code",
   "execution_count": 15,
   "id": "ce4cac28",
   "metadata": {},
   "outputs": [
    {
     "data": {
      "text/plain": [
       "(158, 9)"
      ]
     },
     "execution_count": 15,
     "metadata": {},
     "output_type": "execute_result"
    }
   ],
   "source": [
    "X_raw[X_raw.isnull().any(axis=1)].shape"
   ]
  },
  {
   "cell_type": "code",
   "execution_count": 17,
   "id": "be24fb82",
   "metadata": {},
   "outputs": [
    {
     "data": {
      "text/html": [
       "<div>\n",
       "<style scoped>\n",
       "    .dataframe tbody tr th:only-of-type {\n",
       "        vertical-align: middle;\n",
       "    }\n",
       "\n",
       "    .dataframe tbody tr th {\n",
       "        vertical-align: top;\n",
       "    }\n",
       "\n",
       "    .dataframe thead th {\n",
       "        text-align: right;\n",
       "    }\n",
       "</style>\n",
       "<table border=\"1\" class=\"dataframe\">\n",
       "  <thead>\n",
       "    <tr style=\"text-align: right;\">\n",
       "      <th></th>\n",
       "      <th>longitude</th>\n",
       "      <th>latitude</th>\n",
       "      <th>housing_median_age</th>\n",
       "      <th>total_rooms</th>\n",
       "      <th>total_bedrooms</th>\n",
       "      <th>population</th>\n",
       "      <th>households</th>\n",
       "      <th>median_income</th>\n",
       "      <th>ocean_proximity</th>\n",
       "    </tr>\n",
       "  </thead>\n",
       "  <tbody>\n",
       "    <tr>\n",
       "      <th>1606</th>\n",
       "      <td>-122.08</td>\n",
       "      <td>37.88</td>\n",
       "      <td>26.0</td>\n",
       "      <td>2947.0</td>\n",
       "      <td>NaN</td>\n",
       "      <td>825.0</td>\n",
       "      <td>626.0</td>\n",
       "      <td>2.9330</td>\n",
       "      <td>NEAR BAY</td>\n",
       "    </tr>\n",
       "    <tr>\n",
       "      <th>10915</th>\n",
       "      <td>-117.87</td>\n",
       "      <td>33.73</td>\n",
       "      <td>45.0</td>\n",
       "      <td>2264.0</td>\n",
       "      <td>NaN</td>\n",
       "      <td>1970.0</td>\n",
       "      <td>499.0</td>\n",
       "      <td>3.4193</td>\n",
       "      <td>&lt;1H OCEAN</td>\n",
       "    </tr>\n",
       "    <tr>\n",
       "      <th>19150</th>\n",
       "      <td>-122.70</td>\n",
       "      <td>38.35</td>\n",
       "      <td>14.0</td>\n",
       "      <td>2313.0</td>\n",
       "      <td>NaN</td>\n",
       "      <td>954.0</td>\n",
       "      <td>397.0</td>\n",
       "      <td>3.7813</td>\n",
       "      <td>&lt;1H OCEAN</td>\n",
       "    </tr>\n",
       "    <tr>\n",
       "      <th>4186</th>\n",
       "      <td>-118.23</td>\n",
       "      <td>34.13</td>\n",
       "      <td>48.0</td>\n",
       "      <td>1308.0</td>\n",
       "      <td>NaN</td>\n",
       "      <td>835.0</td>\n",
       "      <td>294.0</td>\n",
       "      <td>4.2891</td>\n",
       "      <td>&lt;1H OCEAN</td>\n",
       "    </tr>\n",
       "    <tr>\n",
       "      <th>16885</th>\n",
       "      <td>-122.40</td>\n",
       "      <td>37.58</td>\n",
       "      <td>26.0</td>\n",
       "      <td>3281.0</td>\n",
       "      <td>NaN</td>\n",
       "      <td>1145.0</td>\n",
       "      <td>480.0</td>\n",
       "      <td>6.3580</td>\n",
       "      <td>NEAR OCEAN</td>\n",
       "    </tr>\n",
       "  </tbody>\n",
       "</table>\n",
       "</div>"
      ],
      "text/plain": [
       "       longitude  latitude  housing_median_age  total_rooms  total_bedrooms  \\\n",
       "1606     -122.08     37.88                26.0       2947.0             NaN   \n",
       "10915    -117.87     33.73                45.0       2264.0             NaN   \n",
       "19150    -122.70     38.35                14.0       2313.0             NaN   \n",
       "4186     -118.23     34.13                48.0       1308.0             NaN   \n",
       "16885    -122.40     37.58                26.0       3281.0             NaN   \n",
       "\n",
       "       population  households  median_income ocean_proximity  \n",
       "1606        825.0       626.0         2.9330        NEAR BAY  \n",
       "10915      1970.0       499.0         3.4193       <1H OCEAN  \n",
       "19150       954.0       397.0         3.7813       <1H OCEAN  \n",
       "4186        835.0       294.0         4.2891       <1H OCEAN  \n",
       "16885      1145.0       480.0         6.3580      NEAR OCEAN  "
      ]
     },
     "execution_count": 17,
     "metadata": {},
     "output_type": "execute_result"
    }
   ],
   "source": [
    "X_raw[X_raw.isnull().any(axis=1)].head()"
   ]
  },
  {
   "cell_type": "markdown",
   "id": "22aa1a16",
   "metadata": {},
   "source": [
    "Fill the missing values in the numerical features (everything except ocean_proximity) with the median of the corresponding feature"
   ]
  },
  {
   "cell_type": "code",
   "execution_count": 18,
   "id": "60f74837",
   "metadata": {},
   "outputs": [
    {
     "name": "stdout",
     "output_type": "stream",
     "text": [
      "<class 'pandas.core.frame.DataFrame'>\n",
      "Int64Index: 16512 entries, 12655 to 19773\n",
      "Data columns (total 8 columns):\n",
      " #   Column              Non-Null Count  Dtype  \n",
      "---  ------              --------------  -----  \n",
      " 0   longitude           16512 non-null  float64\n",
      " 1   latitude            16512 non-null  float64\n",
      " 2   housing_median_age  16512 non-null  float64\n",
      " 3   total_rooms         16512 non-null  float64\n",
      " 4   total_bedrooms      16512 non-null  float64\n",
      " 5   population          16512 non-null  float64\n",
      " 6   households          16512 non-null  float64\n",
      " 7   median_income       16512 non-null  float64\n",
      "dtypes: float64(8)\n",
      "memory usage: 1.1 MB\n"
     ]
    }
   ],
   "source": [
    "from sklearn.impute import SimpleImputer\n",
    "imputer = SimpleImputer(strategy = \"median\")\n",
    "\n",
    "X_raw_num = X_raw.drop('ocean_proximity', axis = 1)\n",
    "\n",
    "imputer.fit(X_raw_num)\n",
    "X = imputer.transform(X_raw_num)\n",
    "X =  pd.DataFrame(X,columns = X_raw_num.columns, index =X_raw_num.index)\n",
    "X.info()"
   ]
  },
  {
   "cell_type": "markdown",
   "id": "2e6acd0d",
   "metadata": {},
   "source": [
    "Handling categorical features\n",
    "\n",
    "Transform the ocean_proximity feature to integers and one-hot vectors"
   ]
  },
  {
   "cell_type": "code",
   "execution_count": 20,
   "id": "7879e305",
   "metadata": {},
   "outputs": [
    {
     "data": {
      "text/html": [
       "<div>\n",
       "<style scoped>\n",
       "    .dataframe tbody tr th:only-of-type {\n",
       "        vertical-align: middle;\n",
       "    }\n",
       "\n",
       "    .dataframe tbody tr th {\n",
       "        vertical-align: top;\n",
       "    }\n",
       "\n",
       "    .dataframe thead th {\n",
       "        text-align: right;\n",
       "    }\n",
       "</style>\n",
       "<table border=\"1\" class=\"dataframe\">\n",
       "  <thead>\n",
       "    <tr style=\"text-align: right;\">\n",
       "      <th></th>\n",
       "      <th>ocean_proximity_&lt;1H OCEAN</th>\n",
       "      <th>ocean_proximity_INLAND</th>\n",
       "      <th>ocean_proximity_ISLAND</th>\n",
       "      <th>ocean_proximity_NEAR BAY</th>\n",
       "      <th>ocean_proximity_NEAR OCEAN</th>\n",
       "    </tr>\n",
       "  </thead>\n",
       "  <tbody>\n",
       "    <tr>\n",
       "      <th>0</th>\n",
       "      <td>0.0</td>\n",
       "      <td>1.0</td>\n",
       "      <td>0.0</td>\n",
       "      <td>0.0</td>\n",
       "      <td>0.0</td>\n",
       "    </tr>\n",
       "    <tr>\n",
       "      <th>1</th>\n",
       "      <td>0.0</td>\n",
       "      <td>0.0</td>\n",
       "      <td>0.0</td>\n",
       "      <td>0.0</td>\n",
       "      <td>1.0</td>\n",
       "    </tr>\n",
       "    <tr>\n",
       "      <th>2</th>\n",
       "      <td>0.0</td>\n",
       "      <td>1.0</td>\n",
       "      <td>0.0</td>\n",
       "      <td>0.0</td>\n",
       "      <td>0.0</td>\n",
       "    </tr>\n",
       "    <tr>\n",
       "      <th>3</th>\n",
       "      <td>0.0</td>\n",
       "      <td>0.0</td>\n",
       "      <td>0.0</td>\n",
       "      <td>0.0</td>\n",
       "      <td>1.0</td>\n",
       "    </tr>\n",
       "    <tr>\n",
       "      <th>4</th>\n",
       "      <td>1.0</td>\n",
       "      <td>0.0</td>\n",
       "      <td>0.0</td>\n",
       "      <td>0.0</td>\n",
       "      <td>0.0</td>\n",
       "    </tr>\n",
       "  </tbody>\n",
       "</table>\n",
       "</div>"
      ],
      "text/plain": [
       "   ocean_proximity_<1H OCEAN  ocean_proximity_INLAND  ocean_proximity_ISLAND  \\\n",
       "0                        0.0                     1.0                     0.0   \n",
       "1                        0.0                     0.0                     0.0   \n",
       "2                        0.0                     1.0                     0.0   \n",
       "3                        0.0                     0.0                     0.0   \n",
       "4                        1.0                     0.0                     0.0   \n",
       "\n",
       "   ocean_proximity_NEAR BAY  ocean_proximity_NEAR OCEAN  \n",
       "0                       0.0                         0.0  \n",
       "1                       0.0                         1.0  \n",
       "2                       0.0                         0.0  \n",
       "3                       0.0                         1.0  \n",
       "4                       0.0                         0.0  "
      ]
     },
     "execution_count": 20,
     "metadata": {},
     "output_type": "execute_result"
    }
   ],
   "source": [
    "import warnings\n",
    "warnings.filterwarnings(\"ignore\")\n",
    "\n",
    "from sklearn.preprocessing import OrdinalEncoder\n",
    "ord_encoder = OrdinalEncoder()\n",
    "X_raw_cat_ord = ord_encoder.fit_transform(X_raw[[\"ocean_proximity\"]])\n",
    "X_ordcat =  pd.DataFrame(X_raw_cat_ord,columns = [\"ocean_proximity\"], index =X_raw_num.index)\n",
    "\n",
    "from sklearn.preprocessing import OneHotEncoder\n",
    "onehot_encoder = OneHotEncoder()\n",
    "X_raw_cat_onehot = onehot_encoder.fit_transform(X_raw[[\"ocean_proximity\"]])\n",
    "column_name = onehot_encoder.get_feature_names([\"ocean_proximity\"])\n",
    "X_onehotcat =  pd.DataFrame(X_raw_cat_onehot.todense(),columns = column_name)\n",
    "X_onehotcat.head()"
   ]
  },
  {
   "cell_type": "markdown",
   "id": "c7dace96",
   "metadata": {},
   "source": [
    "Feature scaling\n",
    "\n",
    "Many ML algorithms do not perform well if the features have different scales (some very small, and others very large). In such scenarios, one should transform the features so that they have similar range of values. There are two common ways to achieve this. In min-max scaling, we subtract the feature from its minimum value and then divide by its range (i.e. maximum value minus minimum value) so that the scaled values are between 0 and 1. In standardization, we subtract the values from the average and divide by the standard deviation, so that the transformed values has mean 0 and variance 1.\n",
    "\n",
    "sklearn.preprocessing.MinMaxScaler class and sklearn.preprocessing.StandardScaler class to scale the numerical features using min-max scaling and standardization"
   ]
  },
  {
   "cell_type": "code",
   "execution_count": 21,
   "id": "8f77b0a2",
   "metadata": {},
   "outputs": [],
   "source": [
    "from sklearn.preprocessing import MinMaxScaler\n",
    "minmaxscaler = MinMaxScaler()\n",
    "X_raw_num = X_raw.drop('ocean_proximity', axis = 1)\n",
    "X_mm = minmaxscaler.fit_transform(X_raw_num)\n",
    "X_mm =  pd.DataFrame(X_mm,columns = X_raw_num.columns, index =X_raw_num.index)\n",
    "\n",
    "\n",
    "from sklearn.preprocessing import StandardScaler\n",
    "stscaler = StandardScaler()\n",
    "X_raw_num = X_raw.drop('ocean_proximity', axis = 1)\n",
    "X_st = stscaler.fit_transform(X_raw_num)\n",
    "X_st =  pd.DataFrame(X_st,columns = X_raw_num.columns, index =X_raw_num.index)"
   ]
  },
  {
   "cell_type": "markdown",
   "id": "24158a35",
   "metadata": {},
   "source": [
    "Transformation pipelines\n",
    "\n",
    "Usually, we have to perform several steps before the data is ready to be fed to an ML algorithm. Scikit-Learn's Pipeline class provides a systematic way of \"packaging\" such a sequence of transformations.\n",
    "\n"
   ]
  },
  {
   "cell_type": "code",
   "execution_count": 23,
   "id": "ce0082ea",
   "metadata": {},
   "outputs": [
    {
     "data": {
      "text/html": [
       "<div>\n",
       "<style scoped>\n",
       "    .dataframe tbody tr th:only-of-type {\n",
       "        vertical-align: middle;\n",
       "    }\n",
       "\n",
       "    .dataframe tbody tr th {\n",
       "        vertical-align: top;\n",
       "    }\n",
       "\n",
       "    .dataframe thead th {\n",
       "        text-align: right;\n",
       "    }\n",
       "</style>\n",
       "<table border=\"1\" class=\"dataframe\">\n",
       "  <thead>\n",
       "    <tr style=\"text-align: right;\">\n",
       "      <th></th>\n",
       "      <th>longitude</th>\n",
       "      <th>latitude</th>\n",
       "      <th>housing_median_age</th>\n",
       "      <th>total_rooms</th>\n",
       "      <th>total_bedrooms</th>\n",
       "      <th>population</th>\n",
       "      <th>households</th>\n",
       "      <th>median_income</th>\n",
       "      <th>ocean_proximity_&lt;1H OCEAN</th>\n",
       "      <th>ocean_proximity_INLAND</th>\n",
       "      <th>ocean_proximity_ISLAND</th>\n",
       "      <th>ocean_proximity_NEAR BAY</th>\n",
       "      <th>ocean_proximity_NEAR OCEAN</th>\n",
       "    </tr>\n",
       "  </thead>\n",
       "  <tbody>\n",
       "    <tr>\n",
       "      <th>12655</th>\n",
       "      <td>-0.941350</td>\n",
       "      <td>1.347438</td>\n",
       "      <td>0.027564</td>\n",
       "      <td>0.584777</td>\n",
       "      <td>0.640371</td>\n",
       "      <td>0.732602</td>\n",
       "      <td>0.556286</td>\n",
       "      <td>-0.893647</td>\n",
       "      <td>0.0</td>\n",
       "      <td>1.0</td>\n",
       "      <td>0.0</td>\n",
       "      <td>0.0</td>\n",
       "      <td>0.0</td>\n",
       "    </tr>\n",
       "    <tr>\n",
       "      <th>15502</th>\n",
       "      <td>1.171782</td>\n",
       "      <td>-1.192440</td>\n",
       "      <td>-1.722018</td>\n",
       "      <td>1.261467</td>\n",
       "      <td>0.781561</td>\n",
       "      <td>0.533612</td>\n",
       "      <td>0.721318</td>\n",
       "      <td>1.292168</td>\n",
       "      <td>0.0</td>\n",
       "      <td>0.0</td>\n",
       "      <td>0.0</td>\n",
       "      <td>0.0</td>\n",
       "      <td>1.0</td>\n",
       "    </tr>\n",
       "    <tr>\n",
       "      <th>2908</th>\n",
       "      <td>0.267581</td>\n",
       "      <td>-0.125972</td>\n",
       "      <td>1.220460</td>\n",
       "      <td>-0.469773</td>\n",
       "      <td>-0.545138</td>\n",
       "      <td>-0.674675</td>\n",
       "      <td>-0.524407</td>\n",
       "      <td>-0.525434</td>\n",
       "      <td>0.0</td>\n",
       "      <td>1.0</td>\n",
       "      <td>0.0</td>\n",
       "      <td>0.0</td>\n",
       "      <td>0.0</td>\n",
       "    </tr>\n",
       "    <tr>\n",
       "      <th>14053</th>\n",
       "      <td>1.221738</td>\n",
       "      <td>-1.351474</td>\n",
       "      <td>-0.370069</td>\n",
       "      <td>-0.348652</td>\n",
       "      <td>-0.036367</td>\n",
       "      <td>-0.467617</td>\n",
       "      <td>-0.037297</td>\n",
       "      <td>-0.865929</td>\n",
       "      <td>0.0</td>\n",
       "      <td>0.0</td>\n",
       "      <td>0.0</td>\n",
       "      <td>0.0</td>\n",
       "      <td>1.0</td>\n",
       "    </tr>\n",
       "    <tr>\n",
       "      <th>20496</th>\n",
       "      <td>0.437431</td>\n",
       "      <td>-0.635818</td>\n",
       "      <td>-0.131489</td>\n",
       "      <td>0.427179</td>\n",
       "      <td>0.272790</td>\n",
       "      <td>0.374060</td>\n",
       "      <td>0.220898</td>\n",
       "      <td>0.325752</td>\n",
       "      <td>1.0</td>\n",
       "      <td>0.0</td>\n",
       "      <td>0.0</td>\n",
       "      <td>0.0</td>\n",
       "      <td>0.0</td>\n",
       "    </tr>\n",
       "  </tbody>\n",
       "</table>\n",
       "</div>"
      ],
      "text/plain": [
       "       longitude  latitude  housing_median_age  total_rooms  total_bedrooms  \\\n",
       "12655  -0.941350  1.347438            0.027564     0.584777        0.640371   \n",
       "15502   1.171782 -1.192440           -1.722018     1.261467        0.781561   \n",
       "2908    0.267581 -0.125972            1.220460    -0.469773       -0.545138   \n",
       "14053   1.221738 -1.351474           -0.370069    -0.348652       -0.036367   \n",
       "20496   0.437431 -0.635818           -0.131489     0.427179        0.272790   \n",
       "\n",
       "       population  households  median_income  ocean_proximity_<1H OCEAN  \\\n",
       "12655    0.732602    0.556286      -0.893647                        0.0   \n",
       "15502    0.533612    0.721318       1.292168                        0.0   \n",
       "2908    -0.674675   -0.524407      -0.525434                        0.0   \n",
       "14053   -0.467617   -0.037297      -0.865929                        0.0   \n",
       "20496    0.374060    0.220898       0.325752                        1.0   \n",
       "\n",
       "       ocean_proximity_INLAND  ocean_proximity_ISLAND  \\\n",
       "12655                     1.0                     0.0   \n",
       "15502                     0.0                     0.0   \n",
       "2908                      1.0                     0.0   \n",
       "14053                     0.0                     0.0   \n",
       "20496                     0.0                     0.0   \n",
       "\n",
       "       ocean_proximity_NEAR BAY  ocean_proximity_NEAR OCEAN  \n",
       "12655                       0.0                         0.0  \n",
       "15502                       0.0                         1.0  \n",
       "2908                        0.0                         0.0  \n",
       "14053                       0.0                         1.0  \n",
       "20496                       0.0                         0.0  "
      ]
     },
     "execution_count": 23,
     "metadata": {},
     "output_type": "execute_result"
    }
   ],
   "source": [
    "from sklearn.pipeline import Pipeline\n",
    "from sklearn.compose import ColumnTransformer\n",
    "\n",
    "num_pipeline = Pipeline([('imputer',SimpleImputer(strategy= 'median')),('std_scaler',StandardScaler())])\n",
    "num_attribs = list(X_raw_num)\n",
    "cat_attribs = [\"ocean_proximity\"]\n",
    "\n",
    "full_pipeline = ColumnTransformer([(\"num\",num_pipeline,num_attribs),(\"cat\",OneHotEncoder(),cat_attribs)])\n",
    "X = full_pipeline.fit_transform(X_raw)\n",
    "col = list(X_raw_num.columns) + list(column_name)\n",
    "X = pd.DataFrame(X,columns = col, index =X_raw_num.index)\n",
    "X.head()"
   ]
  },
  {
   "cell_type": "markdown",
   "id": "ee7387c0",
   "metadata": {},
   "source": [
    "Fine-tuning models\n",
    "\n",
    "(a) Linear regression\n",
    "\n"
   ]
  },
  {
   "cell_type": "code",
   "execution_count": 25,
   "id": "e6425f88",
   "metadata": {},
   "outputs": [
    {
     "data": {
      "text/html": [
       "<div>\n",
       "<style scoped>\n",
       "    .dataframe tbody tr th:only-of-type {\n",
       "        vertical-align: middle;\n",
       "    }\n",
       "\n",
       "    .dataframe tbody tr th {\n",
       "        vertical-align: top;\n",
       "    }\n",
       "\n",
       "    .dataframe thead th {\n",
       "        text-align: right;\n",
       "    }\n",
       "</style>\n",
       "<table border=\"1\" class=\"dataframe\">\n",
       "  <thead>\n",
       "    <tr style=\"text-align: right;\">\n",
       "      <th></th>\n",
       "      <th>fitted</th>\n",
       "    </tr>\n",
       "    <tr>\n",
       "      <th>median_house_value</th>\n",
       "      <th></th>\n",
       "    </tr>\n",
       "  </thead>\n",
       "  <tbody>\n",
       "    <tr>\n",
       "      <th>72100.0</th>\n",
       "      <td>88983.148064</td>\n",
       "    </tr>\n",
       "    <tr>\n",
       "      <th>279600.0</th>\n",
       "      <td>305351.353850</td>\n",
       "    </tr>\n",
       "    <tr>\n",
       "      <th>82700.0</th>\n",
       "      <td>153334.711835</td>\n",
       "    </tr>\n",
       "    <tr>\n",
       "      <th>112500.0</th>\n",
       "      <td>184302.551621</td>\n",
       "    </tr>\n",
       "    <tr>\n",
       "      <th>238300.0</th>\n",
       "      <td>246840.189888</td>\n",
       "    </tr>\n",
       "    <tr>\n",
       "      <th>165700.0</th>\n",
       "      <td>208983.681348</td>\n",
       "    </tr>\n",
       "    <tr>\n",
       "      <th>412300.0</th>\n",
       "      <td>375046.020673</td>\n",
       "    </tr>\n",
       "    <tr>\n",
       "      <th>349600.0</th>\n",
       "      <td>270259.898592</td>\n",
       "    </tr>\n",
       "    <tr>\n",
       "      <th>181300.0</th>\n",
       "      <td>153462.625157</td>\n",
       "    </tr>\n",
       "    <tr>\n",
       "      <th>500001.0</th>\n",
       "      <td>12077.734029</td>\n",
       "    </tr>\n",
       "  </tbody>\n",
       "</table>\n",
       "</div>"
      ],
      "text/plain": [
       "                           fitted\n",
       "median_house_value               \n",
       "72100.0              88983.148064\n",
       "279600.0            305351.353850\n",
       "82700.0             153334.711835\n",
       "112500.0            184302.551621\n",
       "238300.0            246840.189888\n",
       "165700.0            208983.681348\n",
       "412300.0            375046.020673\n",
       "349600.0            270259.898592\n",
       "181300.0            153462.625157\n",
       "500001.0             12077.734029"
      ]
     },
     "execution_count": 25,
     "metadata": {},
     "output_type": "execute_result"
    }
   ],
   "source": [
    "from sklearn.linear_model import LinearRegression\n",
    "lin_reg = LinearRegression()\n",
    "lin_reg.fit(X,y)\n",
    "fitted_val = lin_reg.predict(X)\n",
    "fit_val = pd.DataFrame(fitted_val,columns = ['fitted'], index =y)\n",
    "fit_val.head(10)"
   ]
  },
  {
   "cell_type": "markdown",
   "id": "c0f42511",
   "metadata": {},
   "source": [
    " RMSE and MAE"
   ]
  },
  {
   "cell_type": "code",
   "execution_count": 26,
   "id": "ad5bd6de",
   "metadata": {},
   "outputs": [
    {
     "name": "stdout",
     "output_type": "stream",
     "text": [
      "rmse:  69050.56219504567\n",
      "mae:  49905.329442715316\n"
     ]
    }
   ],
   "source": [
    "from sklearn.metrics import mean_squared_error\n",
    "lin_mse = mean_squared_error(y,fitted_val)\n",
    "lin_rmse = np.sqrt(lin_mse)\n",
    "print('rmse: ',lin_rmse)\n",
    "\n",
    "from sklearn.metrics import mean_absolute_error\n",
    "lin_mae = mean_absolute_error(y,fitted_val)\n",
    "print('mae: ',lin_mae)"
   ]
  },
  {
   "cell_type": "markdown",
   "id": "e7bf56b5",
   "metadata": {},
   "source": [
    " Cross validation\n",
    " \n",
    " We evaluated the in-sample performance of the linear regression model. To obtain out-of-sample performance, we use K-fold cross validation."
   ]
  },
  {
   "cell_type": "code",
   "execution_count": 27,
   "id": "d0403f76",
   "metadata": {},
   "outputs": [
    {
     "name": "stdout",
     "output_type": "stream",
     "text": [
      "Scores: [72229.03469752 65318.2240289  67706.39604745 69368.53738998\n",
      " 66767.61061621 73003.75273869 70522.24414582 69440.77896541\n",
      " 66930.32945876 70756.31946074]\n",
      "Mean: 69204.32275494766\n",
      "Standard Deviation: 2372.07079105592\n"
     ]
    }
   ],
   "source": [
    "from sklearn.model_selection import cross_val_score\n",
    "scores = cross_val_score(lin_reg,X,y,scoring=\"neg_mean_squared_error\",cv =10)\n",
    "linreg_rmse_scores = np.sqrt(-scores)\n",
    "\n",
    "\n",
    "def display_scores(scores):\n",
    "    print(\"Scores:\",scores)\n",
    "    print(\"Mean:\", scores.mean())\n",
    "    print(\"Standard Deviation:\", scores.std())\n",
    "\n",
    "    \n",
    "display_scores(linreg_rmse_scores)"
   ]
  },
  {
   "cell_type": "markdown",
   "id": "b4945a48",
   "metadata": {},
   "source": [
    "Alternatives to linear regression\n",
    "\n",
    "Let us consider fitting two alternative models, namely, decision trees and random forests."
   ]
  },
  {
   "cell_type": "code",
   "execution_count": 28,
   "id": "f2821929",
   "metadata": {},
   "outputs": [
    {
     "data": {
      "text/plain": [
       "DecisionTreeRegressor(random_state=42)"
      ]
     },
     "execution_count": 28,
     "metadata": {},
     "output_type": "execute_result"
    }
   ],
   "source": [
    "from sklearn.tree import DecisionTreeRegressor\n",
    "dt_reg = DecisionTreeRegressor(random_state=42)\n",
    "dt_reg.fit(X,y)"
   ]
  },
  {
   "cell_type": "code",
   "execution_count": 30,
   "id": "fb7dbecd",
   "metadata": {},
   "outputs": [
    {
     "data": {
      "text/plain": [
       "array([ 72100., 279600.,  82700., 112500., 238300., 165700., 412300.,\n",
       "       349600., 181300., 500001.])"
      ]
     },
     "execution_count": 30,
     "metadata": {},
     "output_type": "execute_result"
    }
   ],
   "source": [
    "dt_reg.predict(X[:10])"
   ]
  },
  {
   "cell_type": "code",
   "execution_count": 31,
   "id": "0898d05a",
   "metadata": {},
   "outputs": [
    {
     "data": {
      "text/plain": [
       "RandomForestRegressor(max_depth=5, random_state=42)"
      ]
     },
     "execution_count": 31,
     "metadata": {},
     "output_type": "execute_result"
    }
   ],
   "source": [
    "from sklearn.ensemble import RandomForestRegressor\n",
    "\n",
    "rf_reg = RandomForestRegressor(bootstrap=True, n_estimators=100, max_depth=5, random_state=42)\n",
    "rf_reg.fit(X, y)"
   ]
  },
  {
   "cell_type": "code",
   "execution_count": 32,
   "id": "1272c504",
   "metadata": {},
   "outputs": [
    {
     "data": {
      "text/plain": [
       "array([ 81652.52309416, 312816.43220775, 103956.26879436, 145669.10673902,\n",
       "       254963.91541844, 223471.15507845, 359454.5338993 , 261250.07064825,\n",
       "       178062.03642388, 152509.12871198])"
      ]
     },
     "execution_count": 32,
     "metadata": {},
     "output_type": "execute_result"
    }
   ],
   "source": [
    "rf_reg.predict(X[:10])"
   ]
  },
  {
   "cell_type": "markdown",
   "id": "8e7902cc",
   "metadata": {},
   "source": [
    "In-sample performance of the decision tree and the random forest using RMSE on the training set\n",
    "\n",
    "Out-of-sample performance by 10-fold cross validation "
   ]
  },
  {
   "cell_type": "code",
   "execution_count": 35,
   "id": "1e26244d",
   "metadata": {},
   "outputs": [
    {
     "name": "stdout",
     "output_type": "stream",
     "text": [
      "rmse- linear regression - in sample:  69050.56219504567\n",
      "\n",
      " rmse- decision tree - in sample:  0.0\n",
      "\n",
      " rmse- RandomForest - in sample:  66750.70697525762\n",
      "\n",
      " Linear Regression- out of sample \n",
      "\n",
      "Scores: [72229.03469752 65318.2240289  67706.39604745 69368.53738998\n",
      " 66767.61061621 73003.75273869 70522.24414582 69440.77896541\n",
      " 66930.32945876 70756.31946074]\n",
      "Mean: 69204.32275494766\n",
      "Standard Deviation: 2372.07079105592\n",
      "\n",
      " Decision Tree- out of sample \n",
      "\n",
      "Scores: [71177.6601991  69770.07865373 64770.5639395  68536.60203993\n",
      " 67057.08155801 68847.12456973 70977.38255647 69208.86346929\n",
      " 67187.87131535 73280.38732407]\n",
      "Mean: 69081.361562518\n",
      "Standard Deviation: 2296.288087393378\n",
      "\n",
      " Random Forest- out of sample \n",
      "\n",
      "Scores: [70666.17468232 65975.4104431  63466.98553521 71762.08084765\n",
      " 65644.92773928 70198.63516218 69549.01504688 68795.8612658\n",
      " 65340.03824595 68660.17724972]\n",
      "Mean: 68005.93062180877\n",
      "Standard Deviation: 2585.2080431468353\n"
     ]
    }
   ],
   "source": [
    "# in-sample\n",
    "\n",
    "print('rmse- linear regression - in sample: ',lin_rmse)\n",
    "\n",
    "fitted_val_dt = dt_reg.predict(X)\n",
    "dt_reg_mse = mean_squared_error(y,fitted_val_dt)\n",
    "dt_rmse = np.sqrt(dt_reg_mse)\n",
    "print('\\n rmse- decision tree - in sample: ',dt_rmse)\n",
    "\n",
    "fitted_val_rf = rf_reg.predict(X)\n",
    "rf_reg_mse = mean_squared_error(y,fitted_val_rf)\n",
    "rf_rmse = np.sqrt(rf_reg_mse)\n",
    "print('\\n rmse- RandomForest - in sample: ',rf_rmse)\n",
    "\n",
    "\n",
    "#out-of-sample\n",
    "\n",
    "print('\\n Linear Regression- out of sample \\n')\n",
    "display_scores(linreg_rmse_scores)\n",
    "\n",
    "tree_scores = cross_val_score(dt_reg,X,y,scoring=\"neg_mean_squared_error\",cv =10)\n",
    "tree_rmse_scores = np.sqrt(-tree_scores)\n",
    "print('\\n Decision Tree- out of sample \\n')\n",
    "display_scores(tree_rmse_scores)\n",
    "\n",
    "\n",
    "forest_scores = cross_val_score(rf_reg,X,y,scoring=\"neg_mean_squared_error\",cv =10)\n",
    "forest_rmse_scores = np.sqrt(-forest_scores)\n",
    "\n",
    "print('\\n Random Forest- out of sample \\n')\n",
    "display_scores(forest_rmse_scores)"
   ]
  },
  {
   "cell_type": "markdown",
   "id": "44bac646",
   "metadata": {},
   "source": [
    "Choosing optimal values of hyperparameters using cross validation\n",
    "\n",
    "Most ML algorithms have hyperparameters. These hyperparameters control the learning process and should not be confused with the model parameters (which are the unknown values that are being estimated). For example, the random forest algorithm has 3 hyperparameters, namely bootstrap, n_estimators, and max_depth. To fine-tune a model, we should find good values of the hyperparameters based on out-of-sample performance\n",
    "\n"
   ]
  },
  {
   "cell_type": "code",
   "execution_count": 36,
   "id": "c39a2920",
   "metadata": {},
   "outputs": [
    {
     "data": {
      "text/plain": [
       "GridSearchCV(cv=4, estimator=RandomForestRegressor(random_state=42), n_jobs=-1,\n",
       "             param_grid=[{'bootstrap': [True, False], 'max_depth': [5, 20, 40],\n",
       "                          'n_estimators': [50, 100, 200]}],\n",
       "             return_train_score=True, scoring='neg_mean_squared_error')"
      ]
     },
     "execution_count": 36,
     "metadata": {},
     "output_type": "execute_result"
    }
   ],
   "source": [
    "from sklearn.model_selection import GridSearchCV\n",
    "\n",
    "param_grid = [{'bootstrap': [True, False],'n_estimators': [50, 100, 200], 'max_depth': [5, 20, 40]}]\n",
    "\n",
    "forest_reg = RandomForestRegressor(random_state=42)\n",
    "\n",
    "grid_search = GridSearchCV(forest_reg, param_grid, cv=4,\n",
    "                           scoring='neg_mean_squared_error',\n",
    "                           return_train_score=True,n_jobs=-1)\n",
    "grid_search.fit(X, y)"
   ]
  },
  {
   "cell_type": "code",
   "execution_count": 37,
   "id": "45c6ac86",
   "metadata": {},
   "outputs": [
    {
     "name": "stdout",
     "output_type": "stream",
     "text": [
      "{'bootstrap': True, 'max_depth': 40, 'n_estimators': 200}\n",
      "50271.12629517273\n"
     ]
    }
   ],
   "source": [
    "print(grid_search.best_params_)\n",
    "print(np.sqrt(-grid_search.best_score_))\n"
   ]
  },
  {
   "cell_type": "code",
   "execution_count": 39,
   "id": "d671e36a",
   "metadata": {},
   "outputs": [
    {
     "data": {
      "text/plain": [
       "RandomizedSearchCV(cv=4, estimator=RandomForestRegressor(random_state=42),\n",
       "                   n_iter=18, n_jobs=-1,\n",
       "                   param_distributions={'bootstrap': [True, False],\n",
       "                                        'max_depth': <scipy.stats._distn_infrastructure.rv_frozen object at 0x000002514CC10D30>,\n",
       "                                        'n_estimators': <scipy.stats._distn_infrastructure.rv_frozen object at 0x000002514CC107F0>},\n",
       "                   random_state=42, scoring='neg_mean_squared_error')"
      ]
     },
     "execution_count": 39,
     "metadata": {},
     "output_type": "execute_result"
    }
   ],
   "source": [
    "from sklearn.model_selection import RandomizedSearchCV\n",
    "from scipy.stats import randint\n",
    "\n",
    "param_distribs = {\n",
    "    'bootstrap': [True, False],   \n",
    "    'n_estimators': randint(low=50, high=200),\n",
    "    'max_depth': randint(low=5, high=40),\n",
    "    }\n",
    "\n",
    "forest_reg = RandomForestRegressor(random_state=42)\n",
    "rnd_search = RandomizedSearchCV(forest_reg, param_distributions=param_distribs,\n",
    "                                n_iter=18, cv=4, scoring='neg_mean_squared_error', random_state=42,n_jobs=-1)\n",
    "rnd_search.fit(X, y)\n"
   ]
  },
  {
   "cell_type": "code",
   "execution_count": 40,
   "id": "ab63b8cb",
   "metadata": {},
   "outputs": [
    {
     "name": "stdout",
     "output_type": "stream",
     "text": [
      "50631.36528915277 {'bootstrap': True, 'max_depth': 33, 'n_estimators': 64}\n",
      "52340.8946928581 {'bootstrap': True, 'max_depth': 12, 'n_estimators': 70}\n",
      "50380.030436623914 {'bootstrap': True, 'max_depth': 23, 'n_estimators': 124}\n",
      "50273.28602841223 {'bootstrap': True, 'max_depth': 28, 'n_estimators': 166}\n",
      "67447.74692166447 {'bootstrap': False, 'max_depth': 28, 'n_estimators': 180}\n",
      "68465.03714105087 {'bootstrap': False, 'max_depth': 6, 'n_estimators': 137}\n",
      "67525.4930600352 {'bootstrap': False, 'max_depth': 34, 'n_estimators': 87}\n",
      "67476.1281683955 {'bootstrap': False, 'max_depth': 25, 'n_estimators': 107}\n",
      "67520.0131623892 {'bootstrap': False, 'max_depth': 29, 'n_estimators': 98}\n",
      "50609.391799744895 {'bootstrap': True, 'max_depth': 32, 'n_estimators': 64}\n",
      "66076.51935679585 {'bootstrap': False, 'max_depth': 7, 'n_estimators': 100}\n",
      "50362.85253370906 {'bootstrap': True, 'max_depth': 25, 'n_estimators': 122}\n",
      "50319.065489304085 {'bootstrap': True, 'max_depth': 22, 'n_estimators': 181}\n",
      "50812.40558997878 {'bootstrap': True, 'max_depth': 18, 'n_estimators': 58}\n",
      "68467.81625115046 {'bootstrap': False, 'max_depth': 6, 'n_estimators': 133}\n",
      "63246.10115659328 {'bootstrap': False, 'max_depth': 11, 'n_estimators': 57}\n",
      "50355.37845511584 {'bootstrap': True, 'max_depth': 39, 'n_estimators': 130}\n",
      "64037.127190339066 {'bootstrap': False, 'max_depth': 8, 'n_estimators': 51}\n",
      "{'bootstrap': True, 'max_depth': 28, 'n_estimators': 166}\n",
      "50273.28602841223\n"
     ]
    }
   ],
   "source": [
    "cvres = rnd_search.cv_results_\n",
    "for mean_score, params in zip(cvres[\"mean_test_score\"], cvres[\"params\"]):\n",
    "    print(np.sqrt(-mean_score), params)\n",
    "\n",
    "print(rnd_search.best_params_)\n",
    "\n",
    "print(np.sqrt(-rnd_search.best_score_))\n"
   ]
  },
  {
   "cell_type": "markdown",
   "id": "22c4ccc3",
   "metadata": {},
   "source": [
    "Evaluating your final model using the test set\n",
    "\n",
    "The last step of a ML project is to evaluate your (fine-tuned) model using the test set. The goal of this step is to estimate the out-of-sample performance of your trained model on new data. \n"
   ]
  },
  {
   "cell_type": "code",
   "execution_count": 41,
   "id": "974dc00b",
   "metadata": {},
   "outputs": [
    {
     "name": "stdout",
     "output_type": "stream",
     "text": [
      "47074.669205115606\n"
     ]
    }
   ],
   "source": [
    "final_model = grid_search.best_estimator_\n",
    "\n",
    "X_test = strat_test_set.drop(\"median_house_value\", axis=1)\n",
    "y_test = strat_test_set[\"median_house_value\"].copy()\n",
    "\n",
    "#only transforming the data\n",
    "X_test_prepared = full_pipeline.transform(X_test)\n",
    "\n",
    "final_predictions = final_model.predict(X_test_prepared)\n",
    "\n",
    "final_mse = mean_squared_error(y_test, final_predictions)\n",
    "final_rmse = np.sqrt(final_mse)\n",
    "print(final_rmse)"
   ]
  },
  {
   "cell_type": "markdown",
   "id": "c4f07a6d",
   "metadata": {},
   "source": [
    "Evaluating final model using the test set"
   ]
  },
  {
   "cell_type": "code",
   "execution_count": 42,
   "id": "b9362a06",
   "metadata": {},
   "outputs": [
    {
     "name": "stdout",
     "output_type": "stream",
     "text": [
      "47074.669205115606\n"
     ]
    }
   ],
   "source": [
    "final_model = grid_search.best_estimator_\n",
    "\n",
    "X_test = strat_test_set.drop(\"median_house_value\", axis=1)\n",
    "y_test = strat_test_set[\"median_house_value\"].copy()\n",
    "\n",
    "#only transforming the data\n",
    "X_test_prepared = full_pipeline.transform(X_test)\n",
    "\n",
    "final_predictions = final_model.predict(X_test_prepared)\n",
    "\n",
    "final_mse = mean_squared_error(y_test, final_predictions)\n",
    "final_rmse = np.sqrt(final_mse)\n",
    "print(final_rmse)"
   ]
  },
  {
   "cell_type": "code",
   "execution_count": 43,
   "id": "787eaf87",
   "metadata": {},
   "outputs": [],
   "source": [
    "from sklearn.preprocessing import PolynomialFeatures\n",
    "num_pipeline = Pipeline([('imputer',SimpleImputer(strategy= 'median')),('poly',PolynomialFeatures(degree = 3)),('std_scaler',StandardScaler())])\n",
    "num_attribs = list(X_raw_num)\n",
    "cat_attribs = [\"ocean_proximity\"]\n",
    "\n",
    "full_pipeline = ColumnTransformer([(\"num\",num_pipeline,num_attribs),(\"cat\",OneHotEncoder(),cat_attribs)])\n",
    "X_poly = full_pipeline.fit_transform(X_raw)\n",
    "X_poly = pd.DataFrame(X_poly, index =X_raw_num.index)"
   ]
  },
  {
   "cell_type": "code",
   "execution_count": 44,
   "id": "da5002fa",
   "metadata": {},
   "outputs": [
    {
     "data": {
      "text/plain": [
       "LinearRegression()"
      ]
     },
     "execution_count": 44,
     "metadata": {},
     "output_type": "execute_result"
    }
   ],
   "source": [
    "lin_reg_poly = LinearRegression()\n",
    "lin_reg_poly.fit(X_poly,y)"
   ]
  },
  {
   "cell_type": "code",
   "execution_count": 45,
   "id": "f2e2a328",
   "metadata": {},
   "outputs": [
    {
     "data": {
      "text/plain": [
       "Ridge(alpha=1, solver='cholesky')"
      ]
     },
     "execution_count": 45,
     "metadata": {},
     "output_type": "execute_result"
    }
   ],
   "source": [
    "from sklearn.linear_model import Ridge\n",
    "ridge_reg = Ridge(alpha = 1, solver = 'cholesky')\n",
    "ridge_reg.fit(X_poly,y)"
   ]
  },
  {
   "cell_type": "markdown",
   "id": "e62e2cc3",
   "metadata": {},
   "source": [
    "Learning curves\n",
    "\n",
    "Obtain learning curves for the linear regression model, the polynomial regression model, and the ridge regression model"
   ]
  },
  {
   "cell_type": "code",
   "execution_count": 46,
   "id": "58bb6353",
   "metadata": {},
   "outputs": [],
   "source": [
    "from sklearn.model_selection import train_test_split\n",
    "import matplotlib.pyplot as plt\n",
    "\n",
    "def plot_learning_curves(model, X, y):\n",
    "    X_train, X_val, y_train, y_val = train_test_split(X,y,test_size = 0.2, random_state = 10)\n",
    "    train_errors,val_errors = [], []\n",
    "     \n",
    "    for m in np.arange(1,len(X_train),1000):\n",
    "        model.fit(X_train[:m], y_train[:m])\n",
    "        y_train_predict = model.predict(X_train[:m])\n",
    "        y_val_predict = model.predict(X_val)\n",
    "        train_errors.append(mean_squared_error(y_train[:m],y_train_predict))\n",
    "        val_errors.append(mean_squared_error(y_val,y_val_predict))\n",
    "        \n",
    "    plt.plot(np.sqrt(train_errors),\"r-+\",linewidth=2,label = 'train')\n",
    "    plt.plot(np.sqrt(val_errors),\"b-\",linewidth=3,label = 'val')\n",
    "    plt.axhline(y = max(np.sqrt(train_errors)),linewidth=1, color='g',linestyle = 'dashed')\n",
    "    plt.axhline(y = min(np.sqrt(val_errors)),linewidth=1, color='y',linestyle = 'dashed')\n",
    "    plt.legend(loc=\"upper right\", fontsize=14)\n",
    "    plt.xlabel(\"Training set size\", fontsize=14)\n",
    "    plt.ylabel(\"RMSE\", fontsize=14)\n",
    "    print(f\"max train error {max(np.sqrt(train_errors))}\")\n",
    "    print(f\"min val error {min(np.sqrt(val_errors))}\")    "
   ]
  },
  {
   "cell_type": "code",
   "execution_count": 47,
   "id": "d7e4ef68",
   "metadata": {},
   "outputs": [
    {
     "name": "stdout",
     "output_type": "stream",
     "text": [
      "max train error 69939.29798791441\n",
      "min val error 68628.29545859668\n"
     ]
    },
    {
     "data": {
      "image/png": "[encoded data removed]",
      "text/plain": [
       "<Figure size 432x288 with 1 Axes>"
      ]
     },
     "metadata": {
      "needs_background": "light"
     },
     "output_type": "display_data"
    }
   ],
   "source": [
    "plot_learning_curves(lin_reg,X,y)"
   ]
  },
  {
   "cell_type": "code",
   "execution_count": 48,
   "id": "4e4bc6fb",
   "metadata": {},
   "outputs": [
    {
     "name": "stdout",
     "output_type": "stream",
     "text": [
      "max train error 58251.6957892753\n",
      "min val error 61904.32496642927\n"
     ]
    },
    {
     "data": {
      "image/png": "[encoded data removed]",
      "text/plain": [
       "<Figure size 432x288 with 1 Axes>"
      ]
     },
     "metadata": {
      "needs_background": "light"
     },
     "output_type": "display_data"
    }
   ],
   "source": [
    "plot_learning_curves(lin_reg_poly,X_poly,y)"
   ]
  },
  {
   "cell_type": "code",
   "execution_count": 49,
   "id": "121081b5",
   "metadata": {},
   "outputs": [
    {
     "name": "stdout",
     "output_type": "stream",
     "text": [
      "max train error 60110.3120677587\n",
      "min val error 60768.87788738953\n"
     ]
    },
    {
     "data": {
      "image/png": "[encoded data removed]",
      "text/plain": [
       "<Figure size 432x288 with 1 Axes>"
      ]
     },
     "metadata": {
      "needs_background": "light"
     },
     "output_type": "display_data"
    }
   ],
   "source": [
    "plot_learning_curves(ridge_reg,X_poly,y)"
   ]
  },
  {
   "cell_type": "markdown",
   "id": "d273b9c7",
   "metadata": {},
   "source": [
    "Linear Regression has a greater rmse on both training and validation dataset-(Our learning algorithm suffers from high bias and low variance)--> this implies underfitting\n",
    "\n",
    "Polynomial Regression has low rmse on the training dataset. This implies overfitting\n",
    "\n",
    "**Ridge Regression neither implies underfitting or overfitting looking at the chart**\n"
   ]
  }
 ],
 "metadata": {
  "kernelspec": {
   "display_name": "Python 3 (ipykernel)",
   "language": "python",
   "name": "python3"
  },
  "language_info": {
   "codemirror_mode": {
    "name": "ipython",
    "version": 3
   },
   "file_extension": ".py",
   "mimetype": "text/x-python",
   "name": "python",
   "nbconvert_exporter": "python",
   "pygments_lexer": "ipython3",
   "version": "3.9.7"
  }
 },
 "nbformat": 4,
 "nbformat_minor": 5
}
